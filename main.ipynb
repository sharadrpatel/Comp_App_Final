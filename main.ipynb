{
 "cells": [
  {
   "cell_type": "markdown",
   "metadata": {},
   "source": [
    "# Imports and Setup"
   ]
  },
  {
   "cell_type": "code",
   "execution_count": 11,
   "metadata": {},
   "outputs": [],
   "source": [
    "import os\n",
    "from glob import glob\n",
    "import numpy as np\n",
    "from PIL import Image\n",
    "import matplotlib.pyplot as plt"
   ]
  },
  {
   "cell_type": "markdown",
   "metadata": {},
   "source": [
    "# Define Paths"
   ]
  },
  {
   "cell_type": "code",
   "execution_count": null,
   "metadata": {},
   "outputs": [],
   "source": []
  },
  {
   "cell_type": "code",
   "execution_count": 13,
   "metadata": {},
   "outputs": [],
   "source": [
    "# Base project directory\n",
    "base_dir = \"/Users/sharadpatel/Documents/Projects/Programming/lung-gan-project\"\n",
    "\n",
    "# Raw and output data\n",
    "raw_dir = os.path.join(base_dir, \"data\", \"raw\")\n",
    "output_dir = os.path.join(base_dir, \"data\", \"processed\", \"stylegan_ready\")\n",
    "\n",
    "\n",
    "# Create if missing\n",
    "os.makedirs(output_dir, exist_ok=True)"
   ]
  },
  {
   "cell_type": "markdown",
   "metadata": {},
   "source": [
    "full preprocessing pipeline"
   ]
  },
  {
   "cell_type": "code",
   "execution_count": 15,
   "metadata": {},
   "outputs": [
    {
     "name": "stdout",
     "output_type": "stream",
     "text": [
      "✅ Preprocessed 15548 slices to /Users/sharadpatel/Documents/Projects/Programming/lung-gan-project/data/processed/stylegan_ready\n"
     ]
    }
   ],
   "source": [
    "def normalize_and_resize(img_path, size=(512, 512)):\n",
    "    img = Image.open(img_path).convert(\"L\")  # Grayscale\n",
    "    arr = np.array(img).astype(np.float32)\n",
    "    \n",
    "    # Normalize to 0-1\n",
    "    if arr.max() > arr.min():\n",
    "        arr = (arr - arr.min()) / (arr.max() - arr.min())\n",
    "    \n",
    "    # Convert back to image and resize\n",
    "    norm_img = Image.fromarray((arr * 255).astype(np.uint8))\n",
    "    resized = norm_img.resize(size)\n",
    "    return resized\n",
    "\n",
    "# Process all slices\n",
    "all_slices = glob(f\"{raw_dir}/LIDC-IDRI-*/*/images/slice-*.png\")\n",
    "\n",
    "for i, path in enumerate(all_slices):\n",
    "    try:\n",
    "        final_img = normalize_and_resize(path)\n",
    "        out_path = os.path.join(output_dir, f\"nodule_{i:04d}.png\")\n",
    "        final_img.save(out_path)\n",
    "    except Exception as e:\n",
    "        print(f\"❌ Failed to process {path}: {e}\")\n",
    "\n",
    "print(f\"✅ Preprocessed {len(all_slices)} slices to {output_dir}\")"
   ]
  },
  {
   "cell_type": "code",
   "execution_count": null,
   "metadata": {},
   "outputs": [],
   "source": []
  }
 ],
 "metadata": {
  "kernelspec": {
   "display_name": "lung-gan-env",
   "language": "python",
   "name": "python3"
  },
  "language_info": {
   "codemirror_mode": {
    "name": "ipython",
    "version": 3
   },
   "file_extension": ".py",
   "mimetype": "text/x-python",
   "name": "python",
   "nbconvert_exporter": "python",
   "pygments_lexer": "ipython3",
   "version": "3.10.16"
  }
 },
 "nbformat": 4,
 "nbformat_minor": 2
}
